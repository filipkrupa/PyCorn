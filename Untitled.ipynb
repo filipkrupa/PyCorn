{
 "cells": [
  {
   "cell_type": "code",
   "execution_count": 16,
   "metadata": {},
   "outputs": [],
   "source": [
    "##inspirated by:  https://stackoverflow.com/questions/47483951/how-to-define-a-threshold-value-to-detect-only-green-colour-objects-in-an-image \n",
    "##pre-created 'out' folder inside is needed\n",
    "\n",
    "import cv2\n",
    "import os\n",
    "import glob\n",
    "import numpy as np\n",
    "from matplotlib import pyplot as plt\n",
    "\n",
    "img_dir = \"\" # Enter Directory of all images, empty means current dict. \n",
    "data_path = os.path.join(img_dir,'*g')\n",
    "files = glob.glob(data_path)\n",
    "data = []\n",
    "name = \"\"\n",
    "for f1 in files:\n",
    "    img = cv2.imread(f1)\n",
    "\n",
    "    ## convert to hsv\n",
    "    hsv = cv2.cvtColor(img, cv2.COLOR_BGR2HSV)\n",
    "\n",
    "    ##this part is chengable, based on conditions of the photo, \n",
    "    ## such as light and so on... we need to change mailny red and green\n",
    "    ## example:\n",
    "    ## mask of green (42, 55, 30) ~ (90, 255,255)\n",
    "    # mask = cv2.inRange(hsv, (42, 55, 30), (90, 255,255))\n",
    "    mask = cv2.inRange(hsv, (35, 30, 125), (255, 255,255))\n",
    "\n",
    "    ## slice the green\n",
    "    imask = mask>0\n",
    "    green = np.zeros_like(img, np.uint8)\n",
    "    green[imask] = img[imask]\n",
    "\n",
    "    ## save \n",
    "    ##cv2.imwrite(\"green.png\", green)\n",
    "\n",
    "    name= \"out/\" + f1\n",
    "    \n",
    "    cv2.imwrite(name, green)\n",
    "    \n",
    "    \n",
    "\n",
    "\n",
    "\n",
    "\n",
    "    \n"
   ]
  },
  {
   "cell_type": "code",
   "execution_count": 15,
   "metadata": {},
   "outputs": [
    {
     "data": {
      "text/plain": [
       "True"
      ]
     },
     "execution_count": 15,
     "metadata": {},
     "output_type": "execute_result"
    }
   ],
   "source": [
    "import cv2\n",
    "import os\n",
    "import glob\n",
    "import numpy as np\n",
    "from matplotlib import pyplot as plt\n",
    "\n",
    "img = cv2.imread(\"1_2.jpg\")\n",
    "\n",
    "    ## convert to hsv\n",
    "hsv = cv2.cvtColor(img, cv2.COLOR_BGR2HSV)\n",
    "\n",
    "    ##this part is chengable, based on conditions of the photo, \n",
    "    ## such as light and so on... we need to change mailny red and green\n",
    "    ## example:\n",
    "    ## mask of green (42, 55, 30) ~ (90, 255,255)\n",
    "    # mask = cv2.inRange(hsv, (42, 55, 30), (90, 255,255))\n",
    "mask = cv2.inRange(hsv, (35, 30, 125), (255, 255,255))\n",
    "\n",
    "    ## slice the green\n",
    "imask = mask>0\n",
    "green = np.zeros_like(img, np.uint8)\n",
    "green[imask] = img[imask]\n",
    "\n",
    "    ## save \n",
    "    ##cv2.imwrite(\"green.png\", green)\n",
    "\n",
    "cv2.imwrite(\"green.png\", green)\n",
    "    "
   ]
  },
  {
   "cell_type": "code",
   "execution_count": null,
   "metadata": {},
   "outputs": [],
   "source": []
  },
  {
   "cell_type": "code",
   "execution_count": null,
   "metadata": {},
   "outputs": [],
   "source": []
  }
 ],
 "metadata": {
  "kernelspec": {
   "display_name": "Python 3",
   "language": "python",
   "name": "python3"
  },
  "language_info": {
   "codemirror_mode": {
    "name": "ipython",
    "version": 3
   },
   "file_extension": ".py",
   "mimetype": "text/x-python",
   "name": "python",
   "nbconvert_exporter": "python",
   "pygments_lexer": "ipython3",
   "version": "3.7.6"
  }
 },
 "nbformat": 4,
 "nbformat_minor": 4
}
